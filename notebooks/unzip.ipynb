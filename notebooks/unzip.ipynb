{
 "cells": [
  {
   "cell_type": "code",
   "execution_count": null,
   "id": "301773ae",
   "metadata": {},
   "outputs": [],
   "source": [
    "%load_ext autoreload\n",
    "%autoreload 2\n",
    "\n",
    "from pathlib import Path\n",
    "import zipfile\n",
    "import os\n",
    "\n",
    "\n",
    "BASE_URL = \"https://static.nhtsa.gov/nhtsa/downloads/FARS/{year}/National/FARS{year}NationalCSV.zip\"\n",
    "ROOT = Path(\"..\")\n",
    "DATA_DIR_ZIP = ROOT / \"fars_data_zip\"\n",
    "DATA_DIR_UNZIP = ROOT / \"fars_data_unzipped\"\n",
    "YEARS = range(2018, 2023)"
   ]
  },
  {
   "cell_type": "code",
   "execution_count": null,
   "id": "3cc92e9d",
   "metadata": {},
   "outputs": [],
   "source": [
    "def unzip_fars(zip_path: Path, dest_root: Path):\n",
    "    \"\"\"\n",
    "    Unzips the `zip_path` zip file into a directory under `dest_root`.\n",
    "    Ensures that the contents of zip file end up under dest_root / zip_stem / ....\n",
    "    whether or not the zip itself contains the data files under a folder name.\n",
    "    \"\"\"\n",
    "\n",
    "    zip_stem = zip_path.stem  # e.g. FARS2018National\n",
    "    target_dir = dest_root / zip_stem\n",
    "\n",
    "    with zipfile.ZipFile(zip_path, \"r\") as zf:\n",
    "        members: list[str] = zf.namelist()\n",
    "        common_prefix = Path(members[0]).parts[0]\n",
    "\n",
    "        # Check if all members of the zip file have the same prefix. If so the prefix will\n",
    "        # be removed to save just the file name\n",
    "        all_under_same_prefix: bool = all(\n",
    "            Path(m).parts[0] == common_prefix for m in members\n",
    "        )\n",
    "\n",
    "        if all_under_same_prefix:\n",
    "            for member in members:\n",
    "                member_path = Path(member)\n",
    "                parts = member_path.parts[1:]  # skip top-level folder\n",
    "                if parts:\n",
    "                    out_path = target_dir.joinpath(\n",
    "                        *parts\n",
    "                    )  # e.g. FARS2018National/accidents.csv\n",
    "\n",
    "        else:\n",
    "            zf.extractall(path=target_dir)"
   ]
  },
  {
   "cell_type": "code",
   "execution_count": 49,
   "id": "36204ea7",
   "metadata": {},
   "outputs": [
    {
     "ename": "AttributeError",
     "evalue": "'ZipFile' object has no attribute 'extract_all'",
     "output_type": "error",
     "traceback": [
      "\u001b[31m---------------------------------------------------------------------------\u001b[39m",
      "\u001b[31mAttributeError\u001b[39m                            Traceback (most recent call last)",
      "\u001b[36mCell\u001b[39m\u001b[36m \u001b[39m\u001b[32mIn[49]\u001b[39m\u001b[32m, line 1\u001b[39m\n\u001b[32m----> \u001b[39m\u001b[32m1\u001b[39m \u001b[43munzip_fars\u001b[49m\u001b[43m(\u001b[49m\u001b[43mDATA_DIR_ZIP\u001b[49m\u001b[43m \u001b[49m\u001b[43m/\u001b[49m\u001b[43m \u001b[49m\u001b[33;43m\"\u001b[39;49m\u001b[33;43mFARS2018National.zip\u001b[39;49m\u001b[33;43m\"\u001b[39;49m\u001b[43m,\u001b[49m\u001b[43m \u001b[49m\u001b[43mDATA_DIR_UNZIP\u001b[49m\u001b[43m)\u001b[49m\n",
      "\u001b[36mCell\u001b[39m\u001b[36m \u001b[39m\u001b[32mIn[47]\u001b[39m\u001b[32m, line 31\u001b[39m, in \u001b[36munzip_fars\u001b[39m\u001b[34m(zip_path, dest_root)\u001b[39m\n\u001b[32m     26\u001b[39m             out_path = target_dir.joinpath(\n\u001b[32m     27\u001b[39m                 *parts\n\u001b[32m     28\u001b[39m             )  \u001b[38;5;66;03m# e.g. FARS2018National/accidents.csv\u001b[39;00m\n\u001b[32m     30\u001b[39m \u001b[38;5;28;01melse\u001b[39;00m:\n\u001b[32m---> \u001b[39m\u001b[32m31\u001b[39m     \u001b[43mzf\u001b[49m\u001b[43m.\u001b[49m\u001b[43mextract_all\u001b[49m(path=target_dir)\n",
      "\u001b[31mAttributeError\u001b[39m: 'ZipFile' object has no attribute 'extract_all'"
     ]
    }
   ],
   "source": [
    "unzip_fars(DATA_DIR_ZIP / \"FARS2018National.zip\", DATA_DIR_UNZIP)"
   ]
  },
  {
   "cell_type": "code",
   "execution_count": null,
   "id": "38428a61",
   "metadata": {},
   "outputs": [],
   "source": [
    "def unzip(zip_path: Path, dest_root: Path)"
   ]
  },
  {
   "cell_type": "code",
   "execution_count": null,
   "id": "9da5f563",
   "metadata": {},
   "outputs": [],
   "source": []
  }
 ],
 "metadata": {
  "kernelspec": {
   "display_name": "venv",
   "language": "python",
   "name": "python3"
  },
  "language_info": {
   "codemirror_mode": {
    "name": "ipython",
    "version": 3
   },
   "file_extension": ".py",
   "mimetype": "text/x-python",
   "name": "python",
   "nbconvert_exporter": "python",
   "pygments_lexer": "ipython3",
   "version": "3.13.2"
  }
 },
 "nbformat": 4,
 "nbformat_minor": 5
}

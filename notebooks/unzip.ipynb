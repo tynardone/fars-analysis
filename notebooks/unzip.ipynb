{
 "cells": [
  {
   "cell_type": "code",
   "execution_count": 2,
   "id": "301773ae",
   "metadata": {},
   "outputs": [],
   "source": [
    "%load_ext autoreload\n",
    "%autoreload 2\n",
    "\n",
    "from pathlib import Path\n",
    "import zipfile\n",
    "import os\n",
    "\n",
    "\n",
    "BASE_URL = \"https://static.nhtsa.gov/nhtsa/downloads/FARS/{year}/National/FARS{year}NationalCSV.zip\"\n",
    "ROOT = Path(\"..\")\n",
    "DATA_DIR_ZIP = ROOT / \"fars_data_zip\"\n",
    "DATA_DIR_UNZIP = ROOT / \"fars_data_unzipped\"\n",
    "YEARS = range(2018, 2023)"
   ]
  },
  {
   "cell_type": "code",
   "execution_count": 13,
   "id": "3cc92e9d",
   "metadata": {},
   "outputs": [],
   "source": [
    "def unzip_fars(zip_path: Path, dest_root: Path):\n",
    "    \"\"\"\n",
    "    Unzips the `zip_path` zip file into a directory under `dest_root`.\n",
    "    Ensures that the contents of zip file end up under dest_root / zip_stem / ....\n",
    "    whether or not the zip itself contains the data files under a folder name.\n",
    "    \"\"\"\n",
    "\n",
    "    zip_stem = zip_path.stem  # e.g. FARS2018National\n",
    "    target_dir = dest_root / zip_stem\n",
    "\n",
    "    with zipfile.ZipFile(zip_path, \"r\") as zf:\n",
    "        members: list[str] = zf.namelist()\n",
    "        common_prefix = Path(members[0]).parts[0]\n",
    "\n",
    "        # Check if all members of the zip file have the same prefix. If so the prefix will\n",
    "        # be removed to save just the file name\n",
    "        all_under_same_prefix: bool = all(\n",
    "            Path(m).parts[0] == common_prefix for m in members\n",
    "        )\n",
    "\n",
    "        if all_under_same_prefix:\n",
    "            for member in members:\n",
    "                member_path = Path(member)\n",
    "                parts = member_path.parts[1:]  # skip top-level folder\n",
    "                if parts:\n",
    "                    out_path = target_dir.joinpath(\n",
    "                        *parts\n",
    "                    )  # e.g. FARS2018National/accidents.csv\n",
    "                    out_path.parent.mkdir(parents=True, exist_ok=True)\n",
    "\n",
    "                    with zf.open(member) as source, open(out_path, \"wb\") as target:\n",
    "                        target.write(source.read())\n",
    "\n",
    "        else:\n",
    "            zf.extractall(path=target_dir)"
   ]
  },
  {
   "cell_type": "code",
   "execution_count": 18,
   "id": "36204ea7",
   "metadata": {},
   "outputs": [
    {
     "data": {
      "text/plain": [
       "<map at 0x118357820>"
      ]
     },
     "execution_count": 18,
     "metadata": {},
     "output_type": "execute_result"
    }
   ],
   "source": [
    "zip_files = DATA_DIR_ZIP.glob(\"*.zip\")\n",
    "\n",
    "\n",
    "zip_files"
   ]
  },
  {
   "cell_type": "code",
   "execution_count": 19,
   "id": "9da5f563",
   "metadata": {},
   "outputs": [],
   "source": [
    "for zip_file in zip_files:\n",
    "    unzip_fars(zip_file, DATA_DIR_UNZIP)"
   ]
  },
  {
   "cell_type": "code",
   "execution_count": null,
   "id": "829ab17f",
   "metadata": {},
   "outputs": [],
   "source": []
  }
 ],
 "metadata": {
  "kernelspec": {
   "display_name": "venv",
   "language": "python",
   "name": "python3"
  },
  "language_info": {
   "codemirror_mode": {
    "name": "ipython",
    "version": 3
   },
   "file_extension": ".py",
   "mimetype": "text/x-python",
   "name": "python",
   "nbconvert_exporter": "python",
   "pygments_lexer": "ipython3",
   "version": "3.13.2"
  }
 },
 "nbformat": 4,
 "nbformat_minor": 5
}
